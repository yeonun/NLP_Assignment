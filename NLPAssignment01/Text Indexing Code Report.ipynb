{
 "cells": [
  {
   "cell_type": "markdown",
   "metadata": {},
   "source": [
    "### Name : Kang Yeongeun\n",
    "### StudentNo. 20151532\n",
    "#### github : https://github.com/yeonun/NLP_Assignment"
   ]
  },
  {
   "cell_type": "markdown",
   "metadata": {},
   "source": [
    "#  Import the pakages \n",
    "## re for text data, panda for data analysis, matplot for drawing graph and numpy for calculating"
   ]
  },
  {
   "cell_type": "code",
   "execution_count": 1,
   "metadata": {},
   "outputs": [],
   "source": [
    "from collections import Counter\n",
    "import re\n",
    "import matplotlib.pyplot as plt\n",
    "import pandas as pd\n",
    "import numpy as np"
   ]
  },
  {
   "cell_type": "markdown",
   "metadata": {},
   "source": [
    "# File import"
   ]
  },
  {
   "cell_type": "code",
   "execution_count": 2,
   "metadata": {},
   "outputs": [],
   "source": [
    "f=open(\"./ZOOTOPIA.txt\")\n",
    "data = f.read()"
   ]
  },
  {
   "cell_type": "markdown",
   "metadata": {},
   "source": [
    "# Convert all characters to lowercase and parse them word by word"
   ]
  },
  {
   "cell_type": "code",
   "execution_count": 3,
   "metadata": {},
   "outputs": [],
   "source": [
    "parse = re.sub(\"[^0-9a-zA-Z\\\\s]\",\"\",data)\n",
    "parse = parse.lower().split()"
   ]
  },
  {
   "cell_type": "markdown",
   "metadata": {},
   "source": [
    "## Save the names of the characters written in capital letters in the script"
   ]
  },
  {
   "cell_type": "code",
   "execution_count": 4,
   "metadata": {},
   "outputs": [],
   "source": [
    "charnamelist = re.sub(\"[^0-9a-zA-Z\\\\s]\",\"\",data)\n",
    "charnamelist = charnamelist.split()\n",
    "\n",
    "charname = []\n",
    "lowercharname =[]\n",
    "for s in charnamelist:\n",
    "    if s.isupper():\n",
    "        charname.append(s)\n",
    "        lowercharname.append(s.lower())"
   ]
  },
  {
   "cell_type": "markdown",
   "metadata": {},
   "source": [
    "# Use 'Counter' to count by word"
   ]
  },
  {
   "cell_type": "code",
   "execution_count": 5,
   "metadata": {},
   "outputs": [],
   "source": [
    "counts = Counter(parse)\n",
    "counts = counts.most_common()"
   ]
  },
  {
   "cell_type": "markdown",
   "metadata": {},
   "source": [
    "# Made a except word list for meaningful statistics.\n",
    "## article, conjunctions, pronoun, charactrer name, etc..."
   ]
  },
  {
   "cell_type": "code",
   "execution_count": 6,
   "metadata": {},
   "outputs": [],
   "source": [
    "articles = [\"a\",\"the\",\"an\"]\n",
    "conjunctions = [\"and\",\"or\",\"as\",\"but\",\"nor\",\"so\",\"while\",\"although\",\"however\"\\\n",
    "                ,\"instead\",\"moreover\",\"furthermore\",\"likewise\",\"specifically\"\\\n",
    "                ,\"way\",\"yet\",\"for\",\"because\",\"since\",\"actually\",\"that\",\"though\",\\\n",
    "                \"admittedly\",\"thus\",\"therefor\",\"after\",\"before\",\"when\",\\\n",
    "                \"while\",\"until\",\"whenever\",\"next\",\"first\",\"second\",\"finally\",\\\n",
    "                \"meanwile\",\"until\",\"unless\",\"seen\",\"also\",\"beside\",\"then\",\\\n",
    "               \"just\",\"by\",\"no\",\"why\",\"about\",\"here\",\"there\",\"where\",\"how\"\\\n",
    "               ,\"theres\"]\n",
    "pronouns = [\"i\",\"my\",\"me\",\"you\",\"he\",\"she\",\"it\",\"we\",\"they\",\"mine\",\"yours\",\\\n",
    "            \"this\",\"these\",\"thats\",\"those\",\"who\",\"what\",\"which\",\"one\",\"none\"\\\n",
    "            ,\"any\",\"some\",\"each\",\"every\",\"other\",\"others\",\"another\",\"anbody\",\\\n",
    "            \"its\",\"her\",\"his\",\"him\",\"was\",\"were\",\"dont\",\"youre\"\\\n",
    "           ,\"their\",\"your\",\"shes\",\"hes\",\"them\"]\n",
    "etc = [\"to\",\"of\",\"in\",\"at\",\"is\",\"be\",\"are\",\"am\",\"if\",\"with\",\"will\",\"on\",\\\n",
    "       \"has\",\"had\",\"im\",\"do\",\"not\",\"from\",\"now\",\"into\",\"up\"\\\n",
    "      ,\"can\",\"like\",\"have\",\"know\",\"well\",\"cant\",\"been\"]\n",
    "\n",
    "\n",
    "exceptword = articles + conjunctions + pronouns + etc + charname + lowercharname"
   ]
  },
  {
   "cell_type": "markdown",
   "metadata": {},
   "source": [
    "# Create a list of filtered words"
   ]
  },
  {
   "cell_type": "code",
   "execution_count": 7,
   "metadata": {},
   "outputs": [],
   "source": [
    "length = len(counts)\n",
    "newcount = []\n",
    "for i in range(length):\n",
    "    if counts[i][0] not in exceptword:\n",
    "        newcount.append(counts[i])"
   ]
  },
  {
   "cell_type": "markdown",
   "metadata": {},
   "source": [
    "# Create a DataFrame with filtered top 20 word"
   ]
  },
  {
   "cell_type": "code",
   "execution_count": 8,
   "metadata": {},
   "outputs": [
    {
     "name": "stdout",
     "output_type": "stream",
     "text": [
      "filtered top 20 are:\n",
      "\n",
      "      word  counts\n",
      "0   looks      59\n",
      "1     all      58\n",
      "2     off      54\n",
      "3      go      47\n",
      "4   gonna      40\n",
      "5     see      40\n",
      "6     hey      40\n",
      "7     did      37\n",
      "8    okay      36\n",
      "9    find      35\n",
      "10    get      34\n",
      "11   yeah      34\n",
      "12   look      31\n",
      "13   down      30\n",
      "14    got      30\n",
      "15    sir      30\n",
      "16  think      29\n",
      "17  going      28\n",
      "18    our      25\n",
      "19  thank      23\n"
     ]
    }
   ],
   "source": [
    "newcount_to_frame = pd.DataFrame(newcount[:20], columns=[\"word\",\"counts\"])\n",
    "countsum = sum(newcount_to_frame[\"counts\"])\n",
    "print(\"\"\"filtered top 20 are:\n",
    "\n",
    "\"\"\", newcount_to_frame[:20])"
   ]
  },
  {
   "cell_type": "markdown",
   "metadata": {},
   "source": [
    "# Create a graph "
   ]
  },
  {
   "cell_type": "code",
   "execution_count": 9,
   "metadata": {
    "scrolled": true
   },
   "outputs": [
    {
     "data": {
      "image/png": "[encoded data removed]",
      "text/plain": [
       "<Figure size 432x288 with 1 Axes>"
      ]
     },
     "metadata": {
      "needs_background": "light"
     },
     "output_type": "display_data"
    }
   ],
   "source": [
    "fword = [newcount[i][0] for i in range(len(newcount))][:20]\n",
    "fnumber = [newcount[i][1] for i in range(len(newcount))][:20]\n",
    "fxs = [i for i, _ in enumerate(fword)]\n",
    "plt.plot(fxs, fnumber,'b')\n",
    "plt.ylabel(\"counts\")\n",
    "plt.xticks([i+0.5 for i, _ in enumerate(fword)],fword,rotation = 90)\n",
    "plt.title(\"Text Indexing of the 'ZOOTOPIA'\")\n",
    "plt.show()"
   ]
  },
  {
   "cell_type": "code",
   "execution_count": null,
   "metadata": {},
   "outputs": [],
   "source": []
  }
 ],
 "metadata": {
  "kernelspec": {
   "display_name": "Python 3",
   "language": "python",
   "name": "python3"
  },
  "language_info": {
   "codemirror_mode": {
    "name": "ipython",
    "version": 3
   },
   "file_extension": ".py",
   "mimetype": "text/x-python",
   "name": "python",
   "nbconvert_exporter": "python",
   "pygments_lexer": "ipython3",
   "version": "3.7.1"
  }
 },
 "nbformat": 4,
 "nbformat_minor": 2
}
